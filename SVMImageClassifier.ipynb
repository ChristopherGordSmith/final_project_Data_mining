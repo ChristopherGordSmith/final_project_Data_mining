{
 "cells": [
  {
   "cell_type": "code",
   "execution_count": 1,
   "metadata": {},
   "outputs": [
    {
     "name": "stdout",
     "output_type": "stream",
     "text": [
      "loading... category : cheetah\n",
      "loaded category:cheetah successfully\n",
      "loaded category:cheetah successfully\n",
      "loaded category:cheetah successfully\n",
      "loading... category : fox\n",
      "loaded category:fox successfully\n",
      "loaded category:fox successfully\n",
      "loaded category:fox successfully\n",
      "loading... category : hyena\n",
      "loaded category:hyena successfully\n",
      "loaded category:hyena successfully\n",
      "loaded category:hyena successfully\n",
      "loading... category : lion\n",
      "loaded category:lion successfully\n",
      "loaded category:lion successfully\n",
      "loaded category:lion successfully\n",
      "loading... category : tiger\n",
      "loaded category:tiger successfully\n",
      "loaded category:tiger successfully\n",
      "loaded category:tiger successfully\n",
      "loading... category : wolf\n",
      "loaded category:wolf successfully\n",
      "loaded category:wolf successfully\n",
      "loaded category:wolf successfully\n"
     ]
    }
   ],
   "source": [
    "#https://medium.com/analytics-vidhya/image-classification-using-machine-learning-support-vector-machine-svm-dc7a0ec92e01\n",
    "#tutorial\n",
    "import pandas as pd\n",
    "import os\n",
    "from skimage.transform import resize\n",
    "from skimage.io import imread\n",
    "import numpy as np\n",
    "import matplotlib.pyplot as plt\n",
    "Categories=['cheetah','fox','hyena','lion', 'tiger','wolf']\n",
    "DataFolders=['TestData','TrainingData','ValidationData']\n",
    "flat_data_arr=[] #input array\n",
    "target_arr=[] #output array\n",
    "datadir='AnimalClassifyData' \n",
    "#path which contains all the categories of images\n",
    "for i in Categories:\n",
    "    print(f'loading... category : {i}')\n",
    "    for j in DataFolders:\n",
    "        dirPath=os.path.join(datadir,j)\n",
    "        path=os.path.join(dirPath,i)\n",
    "        for img in os.listdir(path):\n",
    "            img_array=imread(os.path.join(path,img))\n",
    "            img_resized=resize(img_array,(150,150,3))\n",
    "            flat_data_arr.append(img_resized.flatten())\n",
    "            target_arr.append(Categories.index(i))\n",
    "        print(f'loaded category:{i} successfully')\n",
    "flat_data=np.array(flat_data_arr)\n",
    "target=np.array(target_arr)\n",
    "df=pd.DataFrame(flat_data) #dataframe\n",
    "df['Target']=target\n",
    "x=df.iloc[:,:-1] #input data \n",
    "y=df.iloc[:,-1] #output data\n",
    "#tutorial"
   ]
  },
  {
   "cell_type": "code",
   "execution_count": 2,
   "metadata": {},
   "outputs": [],
   "source": [
    "from sklearn import svm\n",
    "from sklearn.model_selection import GridSearchCV\n",
    "param_grid={'C':[0.1,1,10,100],'gamma':[0.0001,0.001,0.1,1],'kernel':['rbf','poly']}\n",
    "svc=svm.SVC(probability=True)\n",
    "model=GridSearchCV(svc,param_grid)"
   ]
  },
  {
   "cell_type": "code",
   "execution_count": 3,
   "metadata": {},
   "outputs": [
    {
     "name": "stdout",
     "output_type": "stream",
     "text": [
      "Splitted Successfully\n",
      "The Model is trained well with the given images\n"
     ]
    }
   ],
   "source": [
    "from sklearn.model_selection import train_test_split\n",
    "x_train,x_test,y_train,y_test=train_test_split(x,y,test_size=0.40,random_state=77,stratify=y)\n",
    "print('Splitted Successfully')\n",
    "model.fit(x_train,y_train)\n",
    "print('The Model is trained well with the given images')\n",
    "# model.best_params_ contains the best parameters obtained from GridSearchCV"
   ]
  },
  {
   "cell_type": "code",
   "execution_count": 4,
   "metadata": {},
   "outputs": [
    {
     "name": "stdout",
     "output_type": "stream",
     "text": [
      "The predicted Data is :\n",
      "[1 2 3 4 1 4 0 3 1 4 3 5 2 5 2 4 3 2 0 2 5 0 4 3 2 2 0 5 4 5 5 2 3 4 5 3 1\n",
      " 5 1 2 5 2 0 0 2 1 1 3 5 2 4 5 1 1 5 1 0 2 0 3 0 2 3 2 1 0 2 2 2 0 1 2 0 1\n",
      " 1 0 0 4 0 1 3 3 3 0 0 2 0 3 0 4 1 2 0 3 2 0 3 1 0 4 1 2 5 1 2 0 2 3 0 4 5\n",
      " 3 4 3 0 2 2 0 5 5 0 5 3 2 5 5 0 5 1 0 0 2 0 1 1 0 4 0 5 0 2 1 4 0 5 0 2 3\n",
      " 2 2 0 1 5 4 5 2 4 2 5 1 5 3 1 1 4 3 4 4 0 0 1 4 2 2 5 5 2 5 4 4 4 0 4 0 3\n",
      " 1 4 5 4 0 0 1 3 4 2 0 5 4 1 0 0 0 5 0 5 0 0 1 5 5 3 0 1 2 4 4 5 5 2 0 5 0\n",
      " 1 3 0 0 0 0 3 2 2 0 1 2 3 2 1 2 0 3 5 2 2 3 5 4 1 4 0 0 4 3 4 5 5 3 5 5 5\n",
      " 1 0 1 2 4 5 0 3 1 4 1 2 4 5 4 0 5 4 4 3 3 3 3 4 5 5 3 4 2 1 0 5 0 4 1 1 1\n",
      " 2 2 4 1 3 3 2 1 0 3 0 3 4 0 2 2 5 5 0 0 2 0 0 2 1 0 1 0 0 5 5 0 1 0 5 0 2\n",
      " 2 0 1 1 4 2 3 0 2 3 0 3 4 5 3 3 2 0 0 0 2 2 4 3 3 4 2 0 0 5 2 1 0 5 0 0 0\n",
      " 0 4 4 1 2 4 5 0 0 0 0 4 3 2 3 3 3 4 4 0 2 5 1 4 0 4 0 0 2 1 3 1 2 0 5 1 5\n",
      " 4 0 3 0 3 0 3 0 3 3 0 1 5 1 5 1 4 2 5 5 2 5 4 2 2 3 3 0 1 5 0 3 0 5 0 1 0\n",
      " 1 1 3 0 1 1 4 1 3 2 2 0 3 4 1 4 1 3 4 1 5 3 5 3 0 0 0 1 1 1 3 1 5 2 2 0 0\n",
      " 1 0 0 1 5 0 3 2 0 2 2 3 2 2 0 1 2 4 0 0 1 3 1 0 5 2 1 1 0 1 1 4 5 3 3 5 4\n",
      " 4 2 1 3 2 0 3 3 3 3 0 0 5 0 3 2 3 2 3 5 1 4 1 0 0 0 2 2 0 2 5 2 3 0 3 0 1\n",
      " 2 5 0 0 5 3 3 0 3 5 4 0 5 0 0 5 4 2 4 4 4 2 4 2 2 1 0 0 4 0 4 2 4 1 2 3 0\n",
      " 2 1 5 1 3 2 4 2 5 0 5 2 0 0 0 5 2 0 1 0 4 3 0 0 4 5 2 5 3 3 5 2 5 4 4 1 3\n",
      " 3 2 4 3 5 2 4 5 2 3 5 5 2 0 3 5 2 3 2 4 0 0 0 2 4 0 3 4 2 2 0 2 0 3 3 4 2\n",
      " 4 1 0 3 0 0 1 1 4 5 3 3 1 0 5 2 5 4 0 1 4 4 3 4]\n",
      "The actual data is:\n",
      "[0 0 3 5 3 3 1 2 1 2 3 5 3 2 2 1 3 4 0 2 5 2 2 2 2 0 1 3 4 5 5 2 4 3 5 3 1\n",
      " 2 2 4 5 4 0 3 2 3 0 0 2 2 4 0 3 5 3 4 0 5 2 3 4 3 0 0 2 2 0 5 5 0 5 2 0 1\n",
      " 4 0 3 1 2 4 4 1 4 5 1 2 0 3 0 3 1 2 0 3 2 3 2 4 0 1 5 0 5 1 2 0 5 4 2 5 5\n",
      " 2 4 2 2 0 4 0 4 5 4 0 3 0 4 5 3 5 5 0 0 2 0 2 1 2 1 0 4 0 0 0 5 0 5 2 2 4\n",
      " 5 1 2 1 3 1 1 2 1 2 5 4 5 2 0 1 4 1 5 4 2 3 0 1 2 4 2 0 2 1 2 4 0 2 4 0 3\n",
      " 1 2 5 2 2 4 3 0 3 0 3 3 4 1 0 4 3 5 2 0 1 2 5 1 5 5 1 0 1 1 0 5 4 4 1 2 0\n",
      " 0 3 4 0 1 4 3 5 2 3 1 3 3 5 4 4 1 3 5 4 2 3 5 4 1 4 0 2 4 3 4 5 5 2 2 3 5\n",
      " 0 2 0 3 5 5 3 3 5 0 5 1 4 0 0 2 0 0 4 2 3 3 4 3 5 3 2 4 3 1 5 5 0 2 1 1 4\n",
      " 2 1 4 3 2 4 4 4 5 4 2 3 4 0 0 5 5 2 0 2 4 3 0 1 2 0 4 5 1 3 1 1 0 1 1 2 4\n",
      " 5 0 1 1 0 0 4 0 3 0 0 0 3 5 3 3 2 3 4 0 0 2 0 3 3 4 2 5 4 5 5 2 4 1 0 3 3\n",
      " 4 1 0 0 2 4 3 0 3 2 3 1 3 5 4 4 0 3 1 3 5 2 1 5 0 4 1 0 0 4 4 4 5 0 5 1 5\n",
      " 4 1 1 5 0 0 4 0 0 2 1 1 5 1 1 0 1 1 2 5 5 5 3 2 5 3 5 4 4 5 3 2 2 5 1 2 3\n",
      " 2 4 5 0 2 1 5 1 1 0 2 1 0 1 4 3 1 3 4 1 5 3 5 3 0 5 2 0 4 2 3 1 2 2 1 3 2\n",
      " 5 3 0 3 4 2 3 2 0 2 4 3 3 3 5 5 0 4 3 0 3 1 5 0 1 2 4 0 0 4 1 2 1 3 0 5 4\n",
      " 3 0 1 3 2 3 3 3 0 5 1 3 4 0 1 2 4 0 2 5 0 5 1 1 1 5 2 2 0 2 3 0 0 0 3 2 5\n",
      " 2 5 4 3 5 0 0 1 2 0 2 4 3 0 3 5 0 4 3 5 4 2 1 4 0 3 3 2 1 0 1 4 3 1 0 0 2\n",
      " 0 1 5 1 4 2 4 2 2 0 5 4 0 2 1 3 2 1 1 5 3 3 2 0 3 3 3 1 3 2 3 2 5 3 4 0 1\n",
      " 3 4 0 1 2 5 5 5 4 4 5 2 5 0 2 1 4 4 3 4 0 3 4 0 4 0 2 4 2 2 0 1 0 3 4 1 2\n",
      " 0 0 3 3 3 3 0 0 0 5 5 5 4 0 5 0 2 4 5 1 4 4 0 3]\n",
      "The model is 37.971014492753625% accurate\n"
     ]
    }
   ],
   "source": [
    "from sklearn.metrics import accuracy_score \n",
    "y_pred=model.predict(x_test)\n",
    "print(\"The predicted Data is :\")\n",
    "print(y_pred)\n",
    "print(\"The actual data is:\")\n",
    "print(np.array(y_test))\n",
    "print(f\"The model is {accuracy_score(y_pred,y_test)*100}% accurate\")"
   ]
  }
 ],
 "metadata": {
  "kernelspec": {
   "display_name": "Python 3.9.13 ('base')",
   "language": "python",
   "name": "python3"
  },
  "language_info": {
   "codemirror_mode": {
    "name": "ipython",
    "version": 3
   },
   "file_extension": ".py",
   "mimetype": "text/x-python",
   "name": "python",
   "nbconvert_exporter": "python",
   "pygments_lexer": "ipython3",
   "version": "3.9.13"
  },
  "orig_nbformat": 4,
  "vscode": {
   "interpreter": {
    "hash": "fb833273add3e7c60eb33c0608260b79a61e072ade6f02cc8d07b0a26eef8ab8"
   }
  }
 },
 "nbformat": 4,
 "nbformat_minor": 2
}
